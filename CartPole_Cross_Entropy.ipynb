{
 "cells": [
  {
   "cell_type": "markdown",
   "metadata": {},
   "source": [
    "# Using Reinforcement Learning and Cross Entropy to play and conquer CartPole v1"
   ]
  },
  {
   "cell_type": "code",
   "execution_count": 23,
   "metadata": {},
   "outputs": [],
   "source": [
    "# Intention of this game is to keep cartpole straight with > 199 frames with right/left movements\n",
    "# implementing a basic policy gradient approach using TensorFlow to train a neural network to play the CartPole environment. \n",
    "# The neural network learns a policy that maximizes the expected cumulative reward over time.\n",
    "# Key modifications include using a policy gradient loss, sampling actions from the learned policy during evaluation, and simplifying the action representation\n",
    "\n",
    "import gym # Gym for the environment   \n",
    "import numpy as np # NumPy for numerical operations\n",
    "import tensorflow as tf # TensorFlow for building and training the neural network\n",
    "import pandas as pd # Pandas for data manipulation"
   ]
  },
  {
   "cell_type": "code",
   "execution_count": 24,
   "metadata": {},
   "outputs": [],
   "source": [
    "# Initialize Environment and Neural Network Parameters: \n",
    "# Set up the CartPole environment and define the observation and action spaces. Also, set the learning rate for the neural network.\n",
    "\n",
    "env = gym.make('CartPole-v1')\n",
    "OBSERVATION_SPACE = env.observation_space.shape[0]\n",
    "ACTION_SPACE = env.action_space.n"
   ]
  }
 ],
 "metadata": {
  "kernelspec": {
   "display_name": "Python 3",
   "language": "python",
   "name": "python3"
  },
  "language_info": {
   "codemirror_mode": {
    "name": "ipython",
    "version": 3
   },
   "file_extension": ".py",
   "mimetype": "text/x-python",
   "name": "python",
   "nbconvert_exporter": "python",
   "pygments_lexer": "ipython3",
   "version": "3.11.7"
  }
 },
 "nbformat": 4,
 "nbformat_minor": 2
}
